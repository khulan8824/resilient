{
 "cells": [
  {
   "cell_type": "code",
   "execution_count": 137,
   "metadata": {},
   "outputs": [
    {
     "data": {
      "text/html": [
       "<div>\n",
       "<style scoped>\n",
       "    .dataframe tbody tr th:only-of-type {\n",
       "        vertical-align: middle;\n",
       "    }\n",
       "\n",
       "    .dataframe tbody tr th {\n",
       "        vertical-align: top;\n",
       "    }\n",
       "\n",
       "    .dataframe thead th {\n",
       "        text-align: right;\n",
       "    }\n",
       "</style>\n",
       "<table border=\"1\" class=\"dataframe\">\n",
       "  <thead>\n",
       "    <tr style=\"text-align: right;\">\n",
       "      <th></th>\n",
       "      <th>gateway</th>\n",
       "      <th>latency</th>\n",
       "    </tr>\n",
       "    <tr>\n",
       "      <th>timestamp</th>\n",
       "      <th></th>\n",
       "      <th></th>\n",
       "    </tr>\n",
       "  </thead>\n",
       "  <tbody>\n",
       "    <tr>\n",
       "      <th>01/21/19 02:32 PM</th>\n",
       "      <td>10.138.25.67</td>\n",
       "      <td>0.339817</td>\n",
       "    </tr>\n",
       "    <tr>\n",
       "      <th>01/21/19 02:33 PM</th>\n",
       "      <td>10.138.25.67</td>\n",
       "      <td>0.024861</td>\n",
       "    </tr>\n",
       "    <tr>\n",
       "      <th>01/21/19 02:34 PM</th>\n",
       "      <td>10.138.25.67</td>\n",
       "      <td>0.022789</td>\n",
       "    </tr>\n",
       "    <tr>\n",
       "      <th>01/21/19 02:35 PM</th>\n",
       "      <td>10.138.25.67</td>\n",
       "      <td>0.022000</td>\n",
       "    </tr>\n",
       "    <tr>\n",
       "      <th>01/21/19 02:36 PM</th>\n",
       "      <td>10.138.25.67</td>\n",
       "      <td>0.025834</td>\n",
       "    </tr>\n",
       "  </tbody>\n",
       "</table>\n",
       "</div>"
      ],
      "text/plain": [
       "                        gateway   latency\n",
       "timestamp                                \n",
       "01/21/19 02:32 PM  10.138.25.67  0.339817\n",
       "01/21/19 02:33 PM  10.138.25.67  0.024861\n",
       "01/21/19 02:34 PM  10.138.25.67  0.022789\n",
       "01/21/19 02:35 PM  10.138.25.67  0.022000\n",
       "01/21/19 02:36 PM  10.138.25.67  0.025834"
      ]
     },
     "execution_count": 137,
     "metadata": {},
     "output_type": "execute_result"
    }
   ],
   "source": [
    "import pandas as pd\n",
    "import matplotlib.pyplot as plt\n",
    "\n",
    "# load dataset into Pandas DataFrame\n",
    "df = pd.read_csv(\"log.csv\")\n",
    "df.columns= ['timestamp','latency','gateway']\n",
    "df = df.set_index('timestamp')\n",
    "df = df.sort_index(axis=1)\n",
    "df.head()\n"
   ]
  },
  {
   "cell_type": "code",
   "execution_count": 148,
   "metadata": {},
   "outputs": [
    {
     "data": {
      "image/png": "[encoded data removed]",
      "text/plain": [
       "<matplotlib.figure.Figure at 0x7f2b17826630>"
      ]
     },
     "metadata": {},
     "output_type": "display_data"
    },
    {
     "name": "stdout",
     "output_type": "stream",
     "text": [
      "0.026701\n"
     ]
    }
   ],
   "source": [
    "fig, ax = plt.subplots()\n",
    "\n",
    "colors = {'10.138.25.67':'red', '10.138.57.2':'blue'}\n",
    "\n",
    "grouped = df.groupby('gateway')\n",
    "for key, group in grouped:\n",
    "    group.plot(ax=ax, style='.k',  y='latency', label=key, color=colors[key],alpha=0.5)\n",
    "\n",
    "#plt.ylim(0,5)\n",
    "plt.show()\n",
    "\n",
    "print(df['latency'].quantile(0.9))\n",
    "\n"
   ]
  },
  {
   "cell_type": "code",
   "execution_count": 2,
   "metadata": {
    "collapsed": true
   },
   "outputs": [],
   "source": [
    "import pandas as pd\n",
    "import matplotlib.pyplot as plt\n",
    "import os\n",
    "\n",
    "\n",
    "INPUT_DIR = os.path.join( os.getcwd(), \"logs\")\n",
    "data = pd.DataFrame()\n",
    "dirs = [f for f in os.listdir(INPUT_DIR) if os.path.isdir(os.path.join(INPUT_DIR))]    \n",
    "#print(dirs)\n",
    "data = {}\n",
    "for client in dirs:\n",
    "    files = [f for f in os.listdir(INPUT_DIR+\"/\"+client) if os.path.isdir(os.path.join(INPUT_DIR,client))]\n",
    "    client_data = pd.DataFrame()\n",
    "    for file in files:\n",
    "        temp =  pd.read_csv(os.path.join(INPUT_DIR, client,file), sep=',')\n",
    "        temp.columns= ['timestamp','ttfb','latency','gateway','status']\n",
    "        client_data = pd.concat([client_data,temp])\n",
    "    client_data = client_data.set_index(pd.DatetimeIndex(client_data['timestamp']))\n",
    "    client_data.index = client_data.index.map(lambda x: x.replace(second=0, microsecond=0))\n",
    "    data[client] = client_data\n"
   ]
  },
  {
   "cell_type": "code",
   "execution_count": 3,
   "metadata": {
    "collapsed": true
   },
   "outputs": [],
   "source": [
    "def get_min_date():\n",
    "    min_date = None\n",
    "    for d in data:\n",
    "        c = data.get(d)\n",
    "        if min_date is None or min_date > c.index.min():\n",
    "            min_date = c.index.min()\n",
    "    return min_date#.strftime(\"%m/%d/%Y, %H:%M:%S\")\n",
    "\n",
    "def get_max_date():\n",
    "    max_date = None\n",
    "    for d in data:\n",
    "        c = data.get(d)\n",
    "        if max_date is None or max_date > c.index.max():\n",
    "            max_date = c.index.max()\n",
    "    return max_date\n",
    "\n",
    "def get_90th_percentile():\n",
    "    df = pd.DataFrame()\n",
    "    for d in data:\n",
    "        df = pd.concat([df,data.get(d)])\n",
    "        \n",
    "    print(df.describe())\n",
    "    print(df['latency'].max())\n",
    "    print(df['latency'].min())\n",
    "    print(df['latency'].mean())\n",
    "    return df['latency'].quantile(0.9)\n",
    "\n",
    "def send_info(ts):\n",
    "    min_date = None\n",
    "    max_date = None\n",
    "    \n",
    "    gateway_table = pd.DataFrame()\n",
    "    for d in data:\n",
    "        c = data.get(d)[ts]\n",
    "        c['sender'] = d\n",
    "        if len(c)>2:\n",
    "            gateway_table = pd.concat([gateway_table , c.sample(n=2)])\n",
    "        elif len(c)>0:\n",
    "            gateway_table = pd.concat([gateway_table , c])\n",
    "    #print(gateway_table)\n",
    "    return gateway_table\n",
    "    \n",
    "import numpy as np\n",
    "import math\n",
    "def cosine_similarity(a,b):\n",
    "    return sum([i*j for i,j in zip(a, b)])/(math.sqrt(sum([i*i for i in a]))* math.sqrt(sum([i*i for i in b])))\n",
    "    \n",
    "        \n",
    "        "
   ]
  },
  {
   "cell_type": "code",
   "execution_count": 7,
   "metadata": {},
   "outputs": [
    {
     "name": "stderr",
     "output_type": "stream",
     "text": [
      "/home/khulan/.local/lib/python3.6/site-packages/ipykernel_launcher.py:35: SettingWithCopyWarning: \n",
      "A value is trying to be set on a copy of a slice from a DataFrame.\n",
      "Try using .loc[row_indexer,col_indexer] = value instead\n",
      "\n",
      "See the caveats in the documentation: http://pandas.pydata.org/pandas-docs/stable/indexing.html#indexing-view-versus-copy\n"
     ]
    },
    {
     "name": "stdout",
     "output_type": "stream",
     "text": [
      "{}\n",
      "{'c2': 1}\n",
      "{'c2': 1}\n",
      "{'c2': 1, 'c4': 1}\n",
      "{'c2': 2, 'c4': 1}\n",
      "{'c2': 2, 'c4': 2}\n",
      "{'c2': 2, 'c4': 2}\n",
      "{'c2': 2, 'c4': 3}\n",
      "{'c2': 2, 'c4': 3, 'c3': 1}\n",
      "{'c2': 3, 'c4': 4, 'c3': 1}\n"
     ]
    }
   ],
   "source": [
    "import datetime\n",
    "\n",
    "min_date = get_min_date() \n",
    "max_date = get_max_date() \n",
    "\n",
    "start = min_date\n",
    "end_date = start+datetime.timedelta(minutes = 20)\n",
    "gateway_table = pd.DataFrame()\n",
    "clients = {}\n",
    "while(start < end_date):\n",
    "    rt = send_info(start.strftime(\"%m/%d/%Y, %H:%M:%S\"))\n",
    "    gws = rt.query('sender==\"c1\"')['gateway'].values\n",
    "    \n",
    "    for index, row in rt.iterrows():\n",
    "        if row[\"gateway\"] in gws:\n",
    "            if row['sender'] == \"c1\":\n",
    "                continue\n",
    "            if row[\"sender\"] not in clients:\n",
    "                clients[row[\"sender\"]] = 1\n",
    "            else:\n",
    "                clients[row[\"sender\"]] += 1\n",
    "    \n",
    "    \n",
    "    gateway_table = pd.concat([gateway_table, rt])\n",
    "    start = start+datetime.timedelta(minutes=2)\n",
    "    \n",
    "    print(clients)\n"
   ]
  },
  {
   "cell_type": "code",
   "execution_count": 189,
   "metadata": {},
   "outputs": [
    {
     "name": "stdout",
     "output_type": "stream",
     "text": [
      "               ttfb       latency        status\n",
      "count  1.587320e+06  1.587320e+06  1.587320e+06\n",
      "mean   1.402278e-01  1.148811e+00  1.921008e+02\n",
      "std    2.575638e+00  1.052324e+01  6.344121e+01\n",
      "min    0.000000e+00  5.500000e-05  0.000000e+00\n",
      "25%    7.339000e-03  2.373300e-02  2.000000e+02\n",
      "50%    1.242000e-02  5.363600e-02  2.000000e+02\n",
      "75%    5.962400e-02  3.569230e-01  2.000000e+02\n",
      "max    1.744037e+02  1.800233e+02  4.070000e+02\n",
      "180.023293\n",
      "5.5e-05\n",
      "1.148810713055306\n",
      "0.8737531000000002\n"
     ]
    }
   ],
   "source": [
    "print(get_90th_percentile())"
   ]
  },
  {
   "cell_type": "code",
   "execution_count": 16,
   "metadata": {},
   "outputs": [
    {
     "data": {
      "text/plain": [
       "1.0"
      ]
     },
     "execution_count": 16,
     "metadata": {},
     "output_type": "execute_result"
    }
   ],
   "source": [
    "cosine_similarity([0.189146],[0.171295])"
   ]
  },
  {
   "cell_type": "code",
   "execution_count": null,
   "metadata": {
    "collapsed": true
   },
   "outputs": [],
   "source": []
  }
 ],
 "metadata": {
  "kernelspec": {
   "display_name": "Python 3",
   "language": "python",
   "name": "python3"
  },
  "language_info": {
   "codemirror_mode": {
    "name": "ipython",
    "version": 3
   },
   "file_extension": ".py",
   "mimetype": "text/x-python",
   "name": "python",
   "nbconvert_exporter": "python",
   "pygments_lexer": "ipython3",
   "version": "3.6.0"
  }
 },
 "nbformat": 4,
 "nbformat_minor": 2
}
